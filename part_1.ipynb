{
  "cells": [
    {
      "cell_type": "markdown",
      "metadata": {},
      "source": [
        "# Part 1: Sequence Tagging - NER\n",
        "## Installing Dependencies"
      ]
    },
    {
      "cell_type": "code",
      "execution_count": 3,
      "metadata": {
        "colab": {
          "base_uri": "https://localhost:8080/"
        },
        "execution": {
          "iopub.execute_input": "2023-11-07T06:55:26.026678Z",
          "iopub.status.busy": "2023-11-07T06:55:26.026095Z",
          "iopub.status.idle": "2023-11-07T06:57:48.590009Z",
          "shell.execute_reply": "2023-11-07T06:57:48.588251Z",
          "shell.execute_reply.started": "2023-11-07T06:55:26.026636Z"
        },
        "id": "ZLBfOiUS_Mvm",
        "outputId": "d3df65a7-fa13-4812-d88c-d31ba3d7b497",
        "trusted": true
      },
      "outputs": [
        {
          "name": "stdout",
          "output_type": "stream",
          "text": [
            "Requirement already satisfied: gensim in /Users/chaitanya/opt/anaconda3/envs/nlp-project/lib/python3.10/site-packages (4.3.2)\n",
            "Requirement already satisfied: numpy>=1.18.5 in /Users/chaitanya/opt/anaconda3/envs/nlp-project/lib/python3.10/site-packages (from gensim) (1.26.1)\n",
            "Requirement already satisfied: scipy>=1.7.0 in /Users/chaitanya/opt/anaconda3/envs/nlp-project/lib/python3.10/site-packages (from gensim) (1.11.3)\n",
            "Requirement already satisfied: smart-open>=1.8.1 in /Users/chaitanya/opt/anaconda3/envs/nlp-project/lib/python3.10/site-packages (from gensim) (6.4.0)\n",
            "Collecting seqeval\n",
            "  Downloading seqeval-1.2.2.tar.gz (43 kB)\n",
            "\u001b[2K     \u001b[90m━━━━━━━━━━━━━━━━━━━━━━━━━━━━━━━━━━━━━━━━\u001b[0m \u001b[32m43.6/43.6 kB\u001b[0m \u001b[31m2.6 MB/s\u001b[0m eta \u001b[36m0:00:00\u001b[0m\n",
            "\u001b[?25h  Preparing metadata (setup.py) ... \u001b[?25ldone\n",
            "\u001b[?25hRequirement already satisfied: numpy>=1.14.0 in /Users/chaitanya/opt/anaconda3/envs/nlp-project/lib/python3.10/site-packages (from seqeval) (1.26.1)\n",
            "Collecting scikit-learn>=0.21.3 (from seqeval)\n",
            "  Downloading scikit_learn-1.3.2-cp310-cp310-macosx_10_9_x86_64.whl.metadata (11 kB)\n",
            "Requirement already satisfied: scipy>=1.5.0 in /Users/chaitanya/opt/anaconda3/envs/nlp-project/lib/python3.10/site-packages (from scikit-learn>=0.21.3->seqeval) (1.11.3)\n",
            "Collecting joblib>=1.1.1 (from scikit-learn>=0.21.3->seqeval)\n",
            "  Downloading joblib-1.3.2-py3-none-any.whl.metadata (5.4 kB)\n",
            "Collecting threadpoolctl>=2.0.0 (from scikit-learn>=0.21.3->seqeval)\n",
            "  Downloading threadpoolctl-3.2.0-py3-none-any.whl.metadata (10.0 kB)\n",
            "Downloading scikit_learn-1.3.2-cp310-cp310-macosx_10_9_x86_64.whl (10.2 MB)\n",
            "\u001b[2K   \u001b[90m━━━━━━━━━━━━━━━━━━━━━━━━━━━━━━━━━━━━━━━━\u001b[0m \u001b[32m10.2/10.2 MB\u001b[0m \u001b[31m33.4 MB/s\u001b[0m eta \u001b[36m0:00:00\u001b[0m00:01\u001b[0m0:01\u001b[0m\n",
            "\u001b[?25hDownloading joblib-1.3.2-py3-none-any.whl (302 kB)\n",
            "\u001b[2K   \u001b[90m━━━━━━━━━━━━━━━━━━━━━━━━━━━━━━━━━━━━━━━━\u001b[0m \u001b[32m302.2/302.2 kB\u001b[0m \u001b[31m21.0 MB/s\u001b[0m eta \u001b[36m0:00:00\u001b[0m\n",
            "\u001b[?25hDownloading threadpoolctl-3.2.0-py3-none-any.whl (15 kB)\n",
            "Building wheels for collected packages: seqeval\n",
            "  Building wheel for seqeval (setup.py) ... \u001b[?25ldone\n",
            "\u001b[?25h  Created wheel for seqeval: filename=seqeval-1.2.2-py3-none-any.whl size=16162 sha256=b4e50ee4ce15ff5dd50e9bf56830bdbb0e7d6ab65e9aa1ca3d08ce0e1a1dbc56\n",
            "  Stored in directory: /Users/chaitanya/Library/Caches/pip/wheels/1a/67/4a/ad4082dd7dfc30f2abfe4d80a2ed5926a506eb8a972b4767fa\n",
            "Successfully built seqeval\n",
            "Installing collected packages: threadpoolctl, joblib, scikit-learn, seqeval\n",
            "Successfully installed joblib-1.3.2 scikit-learn-1.3.2 seqeval-1.2.2 threadpoolctl-3.2.0\n",
            "Collecting keras_tuner\n",
            "  Downloading keras_tuner-1.4.6-py3-none-any.whl.metadata (5.4 kB)\n",
            "Collecting keras (from keras_tuner)\n",
            "  Downloading keras-2.15.0-py3-none-any.whl.metadata (2.4 kB)\n",
            "Requirement already satisfied: packaging in /Users/chaitanya/opt/anaconda3/envs/nlp-project/lib/python3.10/site-packages (from keras_tuner) (23.2)\n",
            "Collecting requests (from keras_tuner)\n",
            "  Using cached requests-2.31.0-py3-none-any.whl.metadata (4.6 kB)\n",
            "Collecting kt-legacy (from keras_tuner)\n",
            "  Downloading kt_legacy-1.0.5-py3-none-any.whl (9.6 kB)\n",
            "Collecting charset-normalizer<4,>=2 (from requests->keras_tuner)\n",
            "  Using cached charset_normalizer-3.3.2-cp310-cp310-macosx_10_9_x86_64.whl.metadata (33 kB)\n",
            "Collecting idna<4,>=2.5 (from requests->keras_tuner)\n",
            "  Using cached idna-3.4-py3-none-any.whl (61 kB)\n",
            "Collecting urllib3<3,>=1.21.1 (from requests->keras_tuner)\n",
            "  Using cached urllib3-2.0.7-py3-none-any.whl.metadata (6.6 kB)\n",
            "Collecting certifi>=2017.4.17 (from requests->keras_tuner)\n",
            "  Using cached certifi-2023.7.22-py3-none-any.whl.metadata (2.2 kB)\n",
            "Downloading keras_tuner-1.4.6-py3-none-any.whl (128 kB)\n",
            "\u001b[2K   \u001b[90m━━━━━━━━━━━━━━━━━━━━━━━━━━━━━━━━━━━━━━━━\u001b[0m \u001b[32m128.9/128.9 kB\u001b[0m \u001b[31m5.2 MB/s\u001b[0m eta \u001b[36m0:00:00\u001b[0m\n",
            "\u001b[?25hDownloading keras-2.15.0-py3-none-any.whl (1.7 MB)\n",
            "\u001b[2K   \u001b[90m━━━━━━━━━━━━━━━━━━━━━━━━━━━━━━━━━━━━━━━━\u001b[0m \u001b[32m1.7/1.7 MB\u001b[0m \u001b[31m28.6 MB/s\u001b[0m eta \u001b[36m0:00:00\u001b[0ma \u001b[36m0:00:01\u001b[0m\n",
            "\u001b[?25hUsing cached requests-2.31.0-py3-none-any.whl (62 kB)\n",
            "Using cached certifi-2023.7.22-py3-none-any.whl (158 kB)\n",
            "Using cached charset_normalizer-3.3.2-cp310-cp310-macosx_10_9_x86_64.whl (122 kB)\n",
            "Using cached urllib3-2.0.7-py3-none-any.whl (124 kB)\n",
            "Installing collected packages: kt-legacy, urllib3, keras, idna, charset-normalizer, certifi, requests, keras_tuner\n",
            "Successfully installed certifi-2023.7.22 charset-normalizer-3.3.2 idna-3.4 keras-2.15.0 keras_tuner-1.4.6 kt-legacy-1.0.5 requests-2.31.0 urllib3-2.0.7\n",
            "Collecting tensorflow-addons\n",
            "  Downloading tensorflow_addons-0.22.0-cp310-cp310-macosx_10_14_x86_64.whl.metadata (1.7 kB)\n",
            "Collecting typeguard<3.0.0,>=2.7 (from tensorflow-addons)\n",
            "  Downloading typeguard-2.13.3-py3-none-any.whl (17 kB)\n",
            "Requirement already satisfied: packaging in /Users/chaitanya/opt/anaconda3/envs/nlp-project/lib/python3.10/site-packages (from tensorflow-addons) (23.2)\n",
            "Downloading tensorflow_addons-0.22.0-cp310-cp310-macosx_10_14_x86_64.whl (13.8 MB)\n",
            "\u001b[2K   \u001b[91m━━━━━━━━━━━━━━━━━━━━━━━━━━━\u001b[0m\u001b[90m╺\u001b[0m\u001b[90m━━━━━━━━━━━━\u001b[0m \u001b[32m9.4/13.8 MB\u001b[0m \u001b[31m1.2 MB/s\u001b[0m eta \u001b[36m0:00:04\u001b[0mm\n",
            "\u001b[?25h\u001b[31mERROR: Exception:\n",
            "Traceback (most recent call last):\n",
            "  File \"/Users/chaitanya/opt/anaconda3/envs/nlp-project/lib/python3.10/site-packages/pip/_vendor/urllib3/response.py\", line 438, in _error_catcher\n",
            "    yield\n",
            "  File \"/Users/chaitanya/opt/anaconda3/envs/nlp-project/lib/python3.10/site-packages/pip/_vendor/urllib3/response.py\", line 561, in read\n",
            "    data = self._fp_read(amt) if not fp_closed else b\"\"\n",
            "  File \"/Users/chaitanya/opt/anaconda3/envs/nlp-project/lib/python3.10/site-packages/pip/_vendor/urllib3/response.py\", line 527, in _fp_read\n",
            "    return self._fp.read(amt) if amt is not None else self._fp.read()\n",
            "  File \"/Users/chaitanya/opt/anaconda3/envs/nlp-project/lib/python3.10/site-packages/pip/_vendor/cachecontrol/filewrapper.py\", line 98, in read\n",
            "    data: bytes = self.__fp.read(amt)\n",
            "  File \"/Users/chaitanya/opt/anaconda3/envs/nlp-project/lib/python3.10/http/client.py\", line 466, in read\n",
            "    s = self.fp.read(amt)\n",
            "  File \"/Users/chaitanya/opt/anaconda3/envs/nlp-project/lib/python3.10/socket.py\", line 705, in readinto\n",
            "    return self._sock.recv_into(b)\n",
            "  File \"/Users/chaitanya/opt/anaconda3/envs/nlp-project/lib/python3.10/ssl.py\", line 1307, in recv_into\n",
            "    return self.read(nbytes, buffer)\n",
            "  File \"/Users/chaitanya/opt/anaconda3/envs/nlp-project/lib/python3.10/ssl.py\", line 1163, in read\n",
            "    return self._sslobj.read(len, buffer)\n",
            "TimeoutError: The read operation timed out\n",
            "\n",
            "During handling of the above exception, another exception occurred:\n",
            "\n",
            "Traceback (most recent call last):\n",
            "  File \"/Users/chaitanya/opt/anaconda3/envs/nlp-project/lib/python3.10/site-packages/pip/_internal/cli/base_command.py\", line 180, in exc_logging_wrapper\n",
            "    status = run_func(*args)\n",
            "  File \"/Users/chaitanya/opt/anaconda3/envs/nlp-project/lib/python3.10/site-packages/pip/_internal/cli/req_command.py\", line 245, in wrapper\n",
            "    return func(self, options, args)\n",
            "  File \"/Users/chaitanya/opt/anaconda3/envs/nlp-project/lib/python3.10/site-packages/pip/_internal/commands/install.py\", line 377, in run\n",
            "    requirement_set = resolver.resolve(\n",
            "  File \"/Users/chaitanya/opt/anaconda3/envs/nlp-project/lib/python3.10/site-packages/pip/_internal/resolution/resolvelib/resolver.py\", line 179, in resolve\n",
            "    self.factory.preparer.prepare_linked_requirements_more(reqs)\n",
            "  File \"/Users/chaitanya/opt/anaconda3/envs/nlp-project/lib/python3.10/site-packages/pip/_internal/operations/prepare.py\", line 552, in prepare_linked_requirements_more\n",
            "    self._complete_partial_requirements(\n",
            "  File \"/Users/chaitanya/opt/anaconda3/envs/nlp-project/lib/python3.10/site-packages/pip/_internal/operations/prepare.py\", line 467, in _complete_partial_requirements\n",
            "    for link, (filepath, _) in batch_download:\n",
            "  File \"/Users/chaitanya/opt/anaconda3/envs/nlp-project/lib/python3.10/site-packages/pip/_internal/network/download.py\", line 183, in __call__\n",
            "    for chunk in chunks:\n",
            "  File \"/Users/chaitanya/opt/anaconda3/envs/nlp-project/lib/python3.10/site-packages/pip/_internal/cli/progress_bars.py\", line 53, in _rich_progress_bar\n",
            "    for chunk in iterable:\n",
            "  File \"/Users/chaitanya/opt/anaconda3/envs/nlp-project/lib/python3.10/site-packages/pip/_internal/network/utils.py\", line 63, in response_chunks\n",
            "    for chunk in response.raw.stream(\n",
            "  File \"/Users/chaitanya/opt/anaconda3/envs/nlp-project/lib/python3.10/site-packages/pip/_vendor/urllib3/response.py\", line 622, in stream\n",
            "    data = self.read(amt=amt, decode_content=decode_content)\n",
            "  File \"/Users/chaitanya/opt/anaconda3/envs/nlp-project/lib/python3.10/site-packages/pip/_vendor/urllib3/response.py\", line 560, in read\n",
            "    with self._error_catcher():\n",
            "  File \"/Users/chaitanya/opt/anaconda3/envs/nlp-project/lib/python3.10/contextlib.py\", line 153, in __exit__\n",
            "    self.gen.throw(typ, value, traceback)\n",
            "  File \"/Users/chaitanya/opt/anaconda3/envs/nlp-project/lib/python3.10/site-packages/pip/_vendor/urllib3/response.py\", line 443, in _error_catcher\n",
            "    raise ReadTimeoutError(self._pool, None, \"Read timed out.\")\n",
            "pip._vendor.urllib3.exceptions.ReadTimeoutError: HTTPSConnectionPool(host='files.pythonhosted.org', port=443): Read timed out.\u001b[0m\u001b[31m\n",
            "\u001b[0mRequirement already satisfied: seqeval in /Users/chaitanya/opt/anaconda3/envs/nlp-project/lib/python3.10/site-packages (1.2.2)\n",
            "Requirement already satisfied: numpy>=1.14.0 in /Users/chaitanya/opt/anaconda3/envs/nlp-project/lib/python3.10/site-packages (from seqeval) (1.26.1)\n",
            "Requirement already satisfied: scikit-learn>=0.21.3 in /Users/chaitanya/opt/anaconda3/envs/nlp-project/lib/python3.10/site-packages (from seqeval) (1.3.2)\n",
            "Requirement already satisfied: scipy>=1.5.0 in /Users/chaitanya/opt/anaconda3/envs/nlp-project/lib/python3.10/site-packages (from scikit-learn>=0.21.3->seqeval) (1.11.3)\n",
            "Requirement already satisfied: joblib>=1.1.1 in /Users/chaitanya/opt/anaconda3/envs/nlp-project/lib/python3.10/site-packages (from scikit-learn>=0.21.3->seqeval) (1.3.2)\n",
            "Requirement already satisfied: threadpoolctl>=2.0.0 in /Users/chaitanya/opt/anaconda3/envs/nlp-project/lib/python3.10/site-packages (from scikit-learn>=0.21.3->seqeval) (3.2.0)\n",
            "Collecting matplotlib\n",
            "  Downloading matplotlib-3.8.1-cp310-cp310-macosx_10_12_x86_64.whl.metadata (5.8 kB)\n",
            "Collecting contourpy>=1.0.1 (from matplotlib)\n",
            "  Downloading contourpy-1.2.0-cp310-cp310-macosx_10_9_x86_64.whl.metadata (5.8 kB)\n",
            "Collecting cycler>=0.10 (from matplotlib)\n",
            "  Downloading cycler-0.12.1-py3-none-any.whl.metadata (3.8 kB)\n",
            "Collecting fonttools>=4.22.0 (from matplotlib)\n",
            "  Downloading fonttools-4.44.0-cp310-cp310-macosx_10_9_x86_64.whl.metadata (153 kB)\n",
            "\u001b[2K     \u001b[90m━━━━━━━━━━━━━━━━━━━━━━━━━━━━━━━━━━━━━━━\u001b[0m \u001b[32m153.6/153.6 kB\u001b[0m \u001b[31m5.6 MB/s\u001b[0m eta \u001b[36m0:00:00\u001b[0m\n",
            "\u001b[?25hCollecting kiwisolver>=1.3.1 (from matplotlib)\n",
            "  Downloading kiwisolver-1.4.5-cp310-cp310-macosx_10_9_x86_64.whl.metadata (6.4 kB)\n",
            "Requirement already satisfied: numpy<2,>=1.21 in /Users/chaitanya/opt/anaconda3/envs/nlp-project/lib/python3.10/site-packages (from matplotlib) (1.26.1)\n",
            "Requirement already satisfied: packaging>=20.0 in /Users/chaitanya/opt/anaconda3/envs/nlp-project/lib/python3.10/site-packages (from matplotlib) (23.2)\n",
            "Collecting pillow>=8 (from matplotlib)\n",
            "  Downloading Pillow-10.1.0-cp310-cp310-macosx_10_10_x86_64.whl.metadata (9.5 kB)\n",
            "Collecting pyparsing>=2.3.1 (from matplotlib)\n",
            "  Downloading pyparsing-3.1.1-py3-none-any.whl.metadata (5.1 kB)\n",
            "Requirement already satisfied: python-dateutil>=2.7 in /Users/chaitanya/opt/anaconda3/envs/nlp-project/lib/python3.10/site-packages (from matplotlib) (2.8.2)\n",
            "Requirement already satisfied: six>=1.5 in /Users/chaitanya/opt/anaconda3/envs/nlp-project/lib/python3.10/site-packages (from python-dateutil>=2.7->matplotlib) (1.16.0)\n",
            "Downloading matplotlib-3.8.1-cp310-cp310-macosx_10_12_x86_64.whl (7.6 MB)\n",
            "\u001b[2K   \u001b[90m━━━━━━━━━━━━━━━━━━━━━━━━━━━━━━━━━━━━━━━━\u001b[0m \u001b[32m7.6/7.6 MB\u001b[0m \u001b[31m29.7 MB/s\u001b[0m eta \u001b[36m0:00:00\u001b[0ma \u001b[36m0:00:01\u001b[0m\n",
            "\u001b[?25hDownloading contourpy-1.2.0-cp310-cp310-macosx_10_9_x86_64.whl (256 kB)\n",
            "\u001b[2K   \u001b[90m━━━━━━━━━━━━━━━━━━━━━━━━━━━━━━━━━━━━━━━━\u001b[0m \u001b[32m256.9/256.9 kB\u001b[0m \u001b[31m18.1 MB/s\u001b[0m eta \u001b[36m0:00:00\u001b[0m\n",
            "\u001b[?25hDownloading cycler-0.12.1-py3-none-any.whl (8.3 kB)\n",
            "Downloading fonttools-4.44.0-cp310-cp310-macosx_10_9_x86_64.whl (2.2 MB)\n",
            "\u001b[2K   \u001b[90m━━━━━━━━━━━━━━━━━━━━━━━━━━━━━━━━━━━━━━━━\u001b[0m \u001b[32m2.2/2.2 MB\u001b[0m \u001b[31m32.7 MB/s\u001b[0m eta \u001b[36m0:00:00\u001b[0ma \u001b[36m0:00:01\u001b[0m\n",
            "\u001b[?25hDownloading kiwisolver-1.4.5-cp310-cp310-macosx_10_9_x86_64.whl (68 kB)\n",
            "\u001b[2K   \u001b[90m━━━━━━━━━━━━━━━━━━━━━━━━━━━━━━━━━━━━━━━━\u001b[0m \u001b[32m68.1/68.1 kB\u001b[0m \u001b[31m6.4 MB/s\u001b[0m eta \u001b[36m0:00:00\u001b[0m\n",
            "\u001b[?25hDownloading Pillow-10.1.0-cp310-cp310-macosx_10_10_x86_64.whl (3.5 MB)\n",
            "\u001b[2K   \u001b[90m━━━━━━━━━━━━━━━━━━━━━━━━━━━━━━━━━━━━━━━━\u001b[0m \u001b[32m3.5/3.5 MB\u001b[0m \u001b[31m31.2 MB/s\u001b[0m eta \u001b[36m0:00:00\u001b[0ma \u001b[36m0:00:01\u001b[0m\n",
            "\u001b[?25hDownloading pyparsing-3.1.1-py3-none-any.whl (103 kB)\n",
            "\u001b[2K   \u001b[90m━━━━━━━━━━━━━━━━━━━━━━━━━━━━━━━━━━━━━━━━\u001b[0m \u001b[32m103.1/103.1 kB\u001b[0m \u001b[31m12.0 MB/s\u001b[0m eta \u001b[36m0:00:00\u001b[0m\n",
            "\u001b[?25hInstalling collected packages: pyparsing, pillow, kiwisolver, fonttools, cycler, contourpy, matplotlib\n",
            "Successfully installed contourpy-1.2.0 cycler-0.12.1 fonttools-4.44.0 kiwisolver-1.4.5 matplotlib-3.8.1 pillow-10.1.0 pyparsing-3.1.1\n",
            "Collecting pydot\n",
            "  Downloading pydot-1.4.2-py2.py3-none-any.whl (21 kB)\n",
            "Collecting graphviz\n",
            "  Downloading graphviz-0.20.1-py3-none-any.whl (47 kB)\n",
            "\u001b[2K     \u001b[90m━━━━━━━━━━━━━━━━━━━━━━━━━━━━━━━━━━━━━━━━\u001b[0m \u001b[32m47.0/47.0 kB\u001b[0m \u001b[31m4.1 MB/s\u001b[0m eta \u001b[36m0:00:00\u001b[0m\n",
            "\u001b[?25hRequirement already satisfied: pyparsing>=2.1.4 in /Users/chaitanya/opt/anaconda3/envs/nlp-project/lib/python3.10/site-packages (from pydot) (3.1.1)\n",
            "Installing collected packages: pydot, graphviz\n",
            "Successfully installed graphviz-0.20.1 pydot-1.4.2\n"
          ]
        }
      ],
      "source": [
        "# Run this cell if you have not downloaded any of these libraries before\n",
        "# Please use a Python 3.10 Kernel\n",
        "! pip install --upgrade gensim\n",
        "! pip install seqeval\n",
        "! pip install keras_tuner\n",
        "! pip install tensorflow-addons\n",
        "! pip install seqeval\n",
        "! pip install matplotlib\n",
        "! pip install pydot graphviz\n",
        "# Download and instantiate a gensim model with word2vec-google-news-300 vectors\n",
        "import gensim.downloader\n",
        "w2v = gensim.downloader.load('word2vec-google-news-300')"
      ]
    },
    {
      "cell_type": "markdown",
      "metadata": {},
      "source": [
        "## 1.1 Word Embedding"
      ]
    },
    {
      "cell_type": "code",
      "execution_count": 1,
      "metadata": {
        "colab": {
          "base_uri": "https://localhost:8080/"
        },
        "id": "JZZ2vBmWGabC",
        "outputId": "3735f3e6-978b-42f3-add5-cf4e26fca3ce"
      },
      "outputs": [],
      "source": [
        "# Change these variables to the paths of the train, testa and testb files\n",
        "# on your computer before running this notebook\n",
        "train_path = \"/Users/chaitanya/Documents/NTU/Y3S1/SC4002 NLP/sc4002-project/conll2003/eng.train\"\n",
        "testa_path = \"/Users/chaitanya/Documents/NTU/Y3S1/SC4002 NLP/sc4002-project/conll2003/eng.testa\"\n",
        "testb_path = \"/Users/chaitanya/Documents/NTU/Y3S1/SC4002 NLP/sc4002-project/conll2003/eng.testb\""
      ]
    },
    {
      "cell_type": "markdown",
      "metadata": {},
      "source": [
        "### Question 1.1"
      ]
    },
    {
      "cell_type": "code",
      "execution_count": 4,
      "metadata": {},
      "outputs": [
        {
          "name": "stdout",
          "output_type": "stream",
          "text": [
            "Most similar word to 'student': students\n",
            "Cosine similarity: 0.7294867038726807\n",
            "Most similar word to 'Apple': Apple_AAPL\n",
            "Cosine similarity: 0.7456985712051392\n",
            "Most similar word to 'apple': apples\n",
            "Cosine similarity: 0.720359742641449\n"
          ]
        }
      ],
      "source": [
        "similar_student = w2v.most_similar(\"student\")\n",
        "print(\"Most similar word to 'student':\", similar_student[0][0])\n",
        "print(\"Cosine similarity:\", similar_student[0][1])\n",
        "\n",
        "similar_Apple = w2v.most_similar(\"Apple\")\n",
        "print(\"Most similar word to 'Apple':\", similar_Apple[0][0])\n",
        "print(\"Cosine similarity:\", similar_Apple[0][1])\n",
        "\n",
        "similar_apple = w2v.most_similar(\"apple\")\n",
        "print(\"Most similar word to 'apple':\", similar_apple[0][0])\n",
        "print(\"Cosine similarity:\", similar_apple[0][1])"
      ]
    },
    {
      "cell_type": "markdown",
      "metadata": {},
      "source": [
        "### Question 1.2"
      ]
    },
    {
      "cell_type": "code",
      "execution_count": 5,
      "metadata": {},
      "outputs": [
        {
          "name": "stdout",
          "output_type": "stream",
          "text": [
            "Size of training file: 14986\n"
          ]
        }
      ],
      "source": [
        "# Size of Training File\n",
        "count = 0\n",
        "\n",
        "with open(train_path, \"r\") as file:\n",
        "    for line in file:\n",
        "        if line.strip() == '':\n",
        "            count += 1\n",
        "\n",
        "print(f\"Size of training file: {count}\")"
      ]
    },
    {
      "cell_type": "code",
      "execution_count": 6,
      "metadata": {},
      "outputs": [
        {
          "name": "stdout",
          "output_type": "stream",
          "text": [
            "Size of development file: 3465\n"
          ]
        }
      ],
      "source": [
        "# Size of Development File\n",
        "count = 0\n",
        "\n",
        "with open(testa_path, \"r\") as file:\n",
        "    for line in file:\n",
        "        if line.strip() == '':\n",
        "            count += 1\n",
        "\n",
        "print(f\"Size of development file: {count}\")"
      ]
    },
    {
      "cell_type": "code",
      "execution_count": 7,
      "metadata": {},
      "outputs": [
        {
          "name": "stdout",
          "output_type": "stream",
          "text": [
            "Size of test file: 3683\n"
          ]
        }
      ],
      "source": [
        "# Size of Test File\n",
        "count = 0\n",
        "\n",
        "with open(testb_path, \"r\") as file:\n",
        "    for line in file:\n",
        "        if line.strip() == '':\n",
        "            count += 1\n",
        "\n",
        "print(f\"Size of test file: {count}\")"
      ]
    },
    {
      "cell_type": "markdown",
      "metadata": {},
      "source": [
        "### Question 1.3"
      ]
    },
    {
      "cell_type": "code",
      "execution_count": 4,
      "metadata": {
        "execution": {
          "iopub.execute_input": "2023-11-07T06:57:48.593696Z",
          "iopub.status.busy": "2023-11-07T06:57:48.593308Z",
          "iopub.status.idle": "2023-11-07T06:57:49.288445Z",
          "shell.execute_reply": "2023-11-07T06:57:49.287094Z",
          "shell.execute_reply.started": "2023-11-07T06:57:48.593662Z"
        },
        "id": "giRx1g0e_fdL",
        "trusted": true
      },
      "outputs": [],
      "source": [
        "def load_data_and_labels_two(filename,encoding='utf-8'):\n",
        "    \"\"\"\n",
        "    This function also works same like the previous one but here\n",
        "    I am not removing the special charecters.\n",
        "    \"\"\"\n",
        "    words=[]\n",
        "    parser=[]\n",
        "    ner=[]\n",
        "    sent=[]\n",
        "    label2=[]\n",
        "    label3=[]\n",
        "    tempz=\"\"\"(),.<>?$#@\"!%&*:;'~`^=-_+\\|{}[]/\"\"\"\n",
        "    removal=[i for i in tempz]\n",
        "\n",
        "    with open(filename, encoding=encoding) as f:\n",
        "        for line in f:\n",
        "            line = line.rstrip()\n",
        "            if line:\n",
        "                word, pos_,parser_,ner_ = line.split()\n",
        "                if word!=\"-DOCSTART-\" and word not in removal:\n",
        "                    words.append(word)\n",
        "                    parser.append(parser_)\n",
        "                    ner.append(ner_)\n",
        "            else:\n",
        "                if words!=[] and ner!=[] and parser!=[]:\n",
        "                    sent.append(words)\n",
        "                    label2.append(parser)\n",
        "                    label3.append(ner)\n",
        "                    words, parser, ner = [], [], []\n",
        "\n",
        "    return sent, label3\n",
        "\n",
        "X_train, Y_train = load_data_and_labels_two(train_path)\n",
        "X_valid, Y_valid= load_data_and_labels_two(testa_path)\n",
        "X_test, Y_test = load_data_and_labels_two(testb_path)"
      ]
    },
    {
      "cell_type": "code",
      "execution_count": 5,
      "metadata": {
        "colab": {
          "base_uri": "https://localhost:8080/"
        },
        "id": "atO0fmYGGYUm",
        "outputId": "a576f7cc-fb5f-4e61-c210-a38ed31cfdd1"
      },
      "outputs": [
        {
          "name": "stdout",
          "output_type": "stream",
          "text": [
            "case(hello) = [1. 0. 0. 0.]\n",
            "case(Hello) = [0. 0. 1. 0.]\n",
            "case(HELLO) = [0. 1. 0. 0.]\n",
            "case(hEllO) = [0. 0. 0. 1.]\n"
          ]
        }
      ],
      "source": [
        "import numpy as np\n",
        "from keras.utils import to_categorical\n",
        "\n",
        "CASING_DIM = 4\n",
        "CASES = [\"xx\", \"XX\", \"Xx\", \"xX\"]\n",
        "case2id = {c: i for i, c in enumerate(CASES)}\n",
        "\n",
        "def get_casing(word):\n",
        "  \"\"\"\n",
        "  Return the casing information in a numpy array.\n",
        "\n",
        "  Args:\n",
        "    word(str): input word, E.g. Hello\n",
        "\n",
        "  Returns:\n",
        "    np.array(shape=(CASING_DIM,)): encoded casing\n",
        "\n",
        "  Hint: You might find the one-hot encoding useful.\n",
        "  \"\"\"\n",
        "  casing = np.zeros(shape=(CASING_DIM,))\n",
        "\n",
        "  # all lowercase\n",
        "  if word.islower():\n",
        "    case = \"xx\"\n",
        "  # all uppercase\n",
        "  elif word.isupper():\n",
        "    case = \"XX\"\n",
        "  # starts with capital\n",
        "  elif word[0].isupper():\n",
        "    case = \"Xx\"\n",
        "  # has non-initial capital\n",
        "  else:\n",
        "    case = \"xX\"\n",
        "\n",
        "  casing = to_categorical(case2id[case], len(CASES))\n",
        "\n",
        "  assert casing.shape == (CASING_DIM,)\n",
        "  return casing\n",
        "\n",
        "print(\"case(hello) =\", get_casing('hello'))\n",
        "print(\"case(Hello) =\", get_casing('Hello'))\n",
        "print(\"case(HELLO) =\", get_casing('HELLO'))\n",
        "print(\"case(hEllO) =\", get_casing('hEllO'))"
      ]
    },
    {
      "cell_type": "code",
      "execution_count": 6,
      "metadata": {
        "id": "X2nMGpHdGYUn"
      },
      "outputs": [],
      "source": [
        "import copy\n",
        "\n",
        "def process_data(X_train, Y_train, window_size=5):\n",
        "    # Add <s> and </s> tags to each sentence in X_train\n",
        "    X_train = [['<s>'] + sentence + ['</s>'] for sentence in X_train]\n",
        "    X_train = [['<s>'] + sentence + ['</s>'] for sentence in X_train]\n",
        "\n",
        "    # Create windows of the specified size for each sentence\n",
        "    # Extract Y tags for the middle word\n",
        "    X_window = []\n",
        "    Y_window = []\n",
        "\n",
        "    for sentence, labels in zip(X_train, Y_train):\n",
        "        for i in range(len(sentence) - window_size + 1):\n",
        "            window = sentence[i:i + window_size]\n",
        "            X_window.append(window)\n",
        "            Y_window.append(labels[i])\n",
        "\n",
        "    return X_window, Y_window\n",
        "\n",
        "X_train_copy = copy.deepcopy(X_train)\n",
        "Y_train_copy = copy.deepcopy(Y_train)\n",
        "X_train_pp, Y_train_pp = process_data(X_train_copy, Y_train_copy)\n",
        "\n",
        "X_valid_copy = copy.deepcopy(X_valid)\n",
        "Y_valid_copy = copy.deepcopy(Y_valid)\n",
        "X_valid_pp, Y_valid_pp = process_data(X_valid_copy, Y_valid_copy)\n",
        "\n",
        "X_test_copy = copy.deepcopy(X_test)\n",
        "Y_test_copy = copy.deepcopy(Y_test)\n",
        "X_test_pp, Y_test_pp = process_data(X_test_copy, Y_test_copy)"
      ]
    },
    {
      "cell_type": "code",
      "execution_count": 7,
      "metadata": {
        "colab": {
          "base_uri": "https://localhost:8080/"
        },
        "id": "-OzCTqARGYUn",
        "outputId": "9ababdb0-9630-435f-9f3d-c8ac948c426b"
      },
      "outputs": [
        {
          "name": "stdout",
          "output_type": "stream",
          "text": [
            "Unique strings from all lists:\n",
            "30270\n"
          ]
        }
      ],
      "source": [
        "unique_strings = set()\n",
        "for sublist in X_train_pp:\n",
        "    unique_strings.update(sublist)\n",
        "for sublist in X_valid_pp:\n",
        "    unique_strings.update(sublist)\n",
        "for sublist in X_test_pp:\n",
        "    unique_strings.update(sublist)\n",
        "\n",
        "unique_strings_list = list(unique_strings)\n",
        "print(\"Unique strings from all lists:\")\n",
        "print(len(unique_strings_list))"
      ]
    },
    {
      "cell_type": "code",
      "execution_count": 8,
      "metadata": {
        "colab": {
          "base_uri": "https://localhost:8080/"
        },
        "id": "4YdCGZUDGYUo",
        "outputId": "4562cd0a-0f9d-4b43-e9eb-e0e475187f2e"
      },
      "outputs": [
        {
          "data": {
            "text/plain": [
              "30270"
            ]
          },
          "execution_count": 8,
          "metadata": {},
          "output_type": "execute_result"
        }
      ],
      "source": [
        "tok2id = {w:i for i, w in enumerate(unique_strings_list)}\n",
        "len(tok2id)"
      ]
    },
    {
      "cell_type": "code",
      "execution_count": 9,
      "metadata": {
        "id": "_tKn2ZQyGYUo"
      },
      "outputs": [],
      "source": [
        "def one_hot_encode_labels(label_list):\n",
        "    # Flatten the label list to get a list of unique labels\n",
        "    unique_labels = {'O', 'I-MISC', 'I-ORG', 'B-LOC', 'B-ORG', 'I-PER', 'B-MISC', 'I-LOC'}\n",
        "\n",
        "    # Create a dictionary to map labels to unique integers\n",
        "    label2id = {'O': 0, 'I-MISC': 1, 'I-ORG': 2, 'B-ORG': 3, 'B-LOC': 4, 'I-PER': 5, 'B-MISC': 6, 'I-LOC': 7}\n",
        "\n",
        "    # Initialize the list to store the one-hot encoded labels\n",
        "    one_hot_encoded_labels = [to_categorical(label2id[label], len(unique_labels)) for label in label_list]\n",
        "\n",
        "    return one_hot_encoded_labels\n",
        "\n",
        "def process_list(input_list, y_list, tok2id, get_casing):\n",
        "    # Initialize the output lists\n",
        "    integer_list = []\n",
        "    casing_list = []\n",
        "\n",
        "    for sublist in input_list:\n",
        "        integer_sublist = []\n",
        "        casing_sublist = []\n",
        "\n",
        "        for word in sublist:\n",
        "            # Append the integer and casing information to the sublists\n",
        "            integer_sublist.append(tok2id[word])\n",
        "            casing_sublist.append(get_casing(word))\n",
        "\n",
        "        integer_list.append(integer_sublist)\n",
        "        casing_list.append(casing_sublist)\n",
        "\n",
        "    return (integer_list, casing_list) , one_hot_encode_labels(y_list)\n",
        "\n",
        "(w_train, c_train), y_train = process_list(X_train_pp, Y_train_pp, tok2id, get_casing)\n",
        "(w_valid, c_valid), y_valid = process_list(X_valid_pp, Y_valid_pp, tok2id, get_casing)\n",
        "(w_test, c_test), y_test = process_list(X_test_pp, Y_test_pp, tok2id, get_casing)"
      ]
    },
    {
      "cell_type": "code",
      "execution_count": 10,
      "metadata": {
        "colab": {
          "base_uri": "https://localhost:8080/"
        },
        "id": "8ORyevk9GYUo",
        "outputId": "951b22b8-5d90-4871-c1f2-046d0fcd5db6"
      },
      "outputs": [
        {
          "name": "stdout",
          "output_type": "stream",
          "text": [
            "w_valid[0] = [20657, 20657, 2881, 7469, 8158]\n",
            "c_valid[0] = [array([1., 0., 0., 0.], dtype=float32), array([1., 0., 0., 0.], dtype=float32), array([0., 1., 0., 0.], dtype=float32), array([0., 1., 0., 0.], dtype=float32), array([0., 1., 0., 0.], dtype=float32)]\n",
            "y_valid[0] = [1. 0. 0. 0. 0. 0. 0. 0.]\n"
          ]
        }
      ],
      "source": [
        "print(\"w_valid[0] =\", w_valid[0])\n",
        "print(\"c_valid[0] =\", c_valid[0])\n",
        "print(\"y_valid[0] =\", y_valid[0])"
      ]
    },
    {
      "cell_type": "code",
      "execution_count": 11,
      "metadata": {
        "colab": {
          "base_uri": "https://localhost:8080/"
        },
        "id": "h3D-AhjPGYUo",
        "outputId": "ded5cc20-5c0d-42f8-9c02-c811561c5468"
      },
      "outputs": [
        {
          "name": "stdout",
          "output_type": "stream",
          "text": [
            "Found 3000000 word vectors.\n"
          ]
        }
      ],
      "source": [
        "import numpy as np\n",
        "word2vec = {}\n",
        "for vocab in w2v.index_to_key:\n",
        "    coefs = np.asarray(w2v[vocab], dtype='float32')\n",
        "    word2vec[vocab] = coefs\n",
        "\n",
        "print('Found %s word vectors.' % len(word2vec))"
      ]
    },
    {
      "cell_type": "code",
      "execution_count": 22,
      "metadata": {
        "colab": {
          "base_uri": "https://localhost:8080/"
        },
        "id": "btOlIX09GYUp",
        "outputId": "dd6e40d7-7a11-4197-c302-2c6b76526d2a"
      },
      "outputs": [
        {
          "name": "stdout",
          "output_type": "stream",
          "text": [
            "embedding_matrix.shape = (30270, 300)\n"
          ]
        }
      ],
      "source": [
        "import numpy as np\n",
        "EMBEDDING_DIM = 300\n",
        "# It is a good practice to initialize out-of-vocabulary tokens\n",
        "# Initialize with the embeddings' mean\n",
        "mean_embed = np.mean(np.array(list(word2vec.values())), axis=0)\n",
        "\n",
        "# Create the embedding matrix according to our vocabulary\n",
        "embedding_matrix = np.zeros((len(tok2id), EMBEDDING_DIM))\n",
        "for word, i in tok2id.items():\n",
        "  embedding_matrix[i] = word2vec.get(word, mean_embed)\n",
        "\n",
        "print(\"embedding_matrix.shape =\", embedding_matrix.shape)"
      ]
    },
    {
      "cell_type": "code",
      "execution_count": 23,
      "metadata": {
        "id": "RdVePi3_GYUp"
      },
      "outputs": [],
      "source": [
        "NUM_NEIGHBORS = 2\n",
        "WINDOW_SIZE = 2 * NUM_NEIGHBORS + 1\n",
        "NUM_CLASSES = 8\n",
        "\n",
        "from keras.layers import Input, Embedding, Dense, Dropout, Flatten, concatenate\n",
        "from keras.initializers import Constant\n",
        "from keras.models import Model\n",
        "from tensorflow.keras.layers import LSTM, Embedding, Dense, Dropout, SpatialDropout1D, Bidirectional, Conv1D, concatenate, TimeDistributed\n",
        "\n",
        "# NN Model Definition\n",
        "def get_window_based_ner_model():\n",
        "  window = Input(shape=(WINDOW_SIZE,), dtype='int64', name='window')\n",
        "  casing = Input(shape=(4*WINDOW_SIZE,), dtype='float32', name='casing')\n",
        "  embedding_layer = Embedding(\n",
        "      input_dim=len(tok2id),\n",
        "      output_dim=EMBEDDING_DIM,\n",
        "      embeddings_initializer=Constant(embedding_matrix),\n",
        "      input_length=WINDOW_SIZE,\n",
        "  )\n",
        "  window_embeds = Flatten()(embedding_layer(window))\n",
        "  input_ = concatenate([window_embeds, casing])\n",
        "  x = Dense(512, activation='relu')(input_)\n",
        "  x = Dropout(0.4)(x)\n",
        "  x = Dense(256, activation='relu')(x)\n",
        "  x = Dropout(0.4)(x)\n",
        "  output = Dense(NUM_CLASSES, activation='softmax')(x)\n",
        "  model = Model([window, casing], output)\n",
        "\n",
        "  return model"
      ]
    },
    {
      "cell_type": "code",
      "execution_count": 24,
      "metadata": {
        "colab": {
          "base_uri": "https://localhost:8080/"
        },
        "id": "NZNeutGqGYUq",
        "outputId": "1b3cad05-6273-4289-eba8-02f12bebc1d0"
      },
      "outputs": [
        {
          "name": "stdout",
          "output_type": "stream",
          "text": [
            "Model: \"model_1\"\n",
            "__________________________________________________________________________________________________\n",
            " Layer (type)                Output Shape                 Param #   Connected to                  \n",
            "==================================================================================================\n",
            " window (InputLayer)         [(None, 5)]                  0         []                            \n",
            "                                                                                                  \n",
            " embedding_1 (Embedding)     (None, 5, 300)               9081000   ['window[0][0]']              \n",
            "                                                                                                  \n",
            " flatten_1 (Flatten)         (None, 1500)                 0         ['embedding_1[0][0]']         \n",
            "                                                                                                  \n",
            " casing (InputLayer)         [(None, 20)]                 0         []                            \n",
            "                                                                                                  \n",
            " concatenate_1 (Concatenate  (None, 1520)                 0         ['flatten_1[0][0]',           \n",
            " )                                                                   'casing[0][0]']              \n",
            "                                                                                                  \n",
            " dense_3 (Dense)             (None, 512)                  778752    ['concatenate_1[0][0]']       \n",
            "                                                                                                  \n",
            " dropout_2 (Dropout)         (None, 512)                  0         ['dense_3[0][0]']             \n",
            "                                                                                                  \n",
            " dense_4 (Dense)             (None, 256)                  131328    ['dropout_2[0][0]']           \n",
            "                                                                                                  \n",
            " dropout_3 (Dropout)         (None, 256)                  0         ['dense_4[0][0]']             \n",
            "                                                                                                  \n",
            " dense_5 (Dense)             (None, 8)                    2056      ['dropout_3[0][0]']           \n",
            "                                                                                                  \n",
            "==================================================================================================\n",
            "Total params: 9993136 (38.12 MB)\n",
            "Trainable params: 9993136 (38.12 MB)\n",
            "Non-trainable params: 0 (0.00 Byte)\n",
            "__________________________________________________________________________________________________\n"
          ]
        }
      ],
      "source": [
        "#from keras.utils.plot_model import model_to_dot\n",
        "# Let's create and visualize the NER model\n",
        "ner_model = get_window_based_ner_model()\n",
        "ner_model.compile(optimizer='rmsprop', loss='categorical_crossentropy',metrics=['acc'])\n",
        "ner_model.summary()\n",
        "#SVG(model_to_dot(ner_model,show_shapes=True).create(prog='dot', format='svg'))"
      ]
    },
    {
      "cell_type": "code",
      "execution_count": 25,
      "metadata": {
        "id": "5nrnIOafpN25"
      },
      "outputs": [],
      "source": [
        "import tensorflow as tf\n",
        "from IPython.display import SVG\n",
        "from tensorflow.keras.utils import model_to_dot\n",
        "\n",
        "# Generate svg plot of model structure for report\n",
        "ner_model_graph = model_to_dot(ner_model, show_shapes=True, show_layer_names=True, rankdir='TB')\n",
        "ner_model_graph.set_size('\"12,12\"')  #\n",
        "\n",
        "# Convert to SVG\n",
        "svg_image = ner_model_graph.create_svg()\n",
        "\n",
        "# Save SVG to a file\n",
        "with open(\"ner_model_architecture.svg\", \"wb\") as file:\n",
        "    file.write(svg_image)"
      ]
    },
    {
      "cell_type": "code",
      "execution_count": 26,
      "metadata": {
        "id": "07sjuD-sGYUq"
      },
      "outputs": [],
      "source": [
        "w_train, c_train, y_train = np.array(w_train), np.array(c_train), np.array(y_train)\n",
        "w_valid, c_valid, y_valid = np.array(w_valid), np.array(c_valid), np.array(y_valid)\n",
        "w_test, c_test, y_test = np.array(w_test), np.array(c_test), np.array(y_test)"
      ]
    },
    {
      "cell_type": "code",
      "execution_count": 27,
      "metadata": {
        "id": "3VmazgezGYUq"
      },
      "outputs": [],
      "source": [
        "def reshape_2d_list_to_1d(arr_2d):\n",
        "    # Concatenate the rows of the 2D list into a single array\n",
        "    res = np.empty((arr_2d.shape[0], 20,))\n",
        "    for i, array in enumerate(arr_2d):\n",
        "        reshaped_array = array.reshape(20)\n",
        "        res[i] = reshaped_array\n",
        "\n",
        "    res = np.array(res)\n",
        "    return res\n",
        "\n",
        "\n",
        "c_train_reshaped = reshape_2d_list_to_1d(c_train)\n",
        "c_valid_reshaped =reshape_2d_list_to_1d(c_valid)\n",
        "c_test_reshaped =reshape_2d_list_to_1d(c_test)"
      ]
    },
    {
      "cell_type": "code",
      "execution_count": 28,
      "metadata": {
        "id": "JVlP_48kGYUq"
      },
      "outputs": [],
      "source": [
        "from tensorflow.keras.callbacks import EarlyStopping\n",
        "# Use early stopping with patience 1 to stop the model once the f1_score is no longer increasing\n",
        "early_stopping = EarlyStopping(monitor='val_loss', verbose=1, patience=1)"
      ]
    },
    {
      "cell_type": "code",
      "execution_count": 29,
      "metadata": {
        "id": "8zSxbkQx-l3C"
      },
      "outputs": [],
      "source": [
        "from seqeval.metrics import f1_score\n",
        "from seqeval.scheme import IOB2\n",
        "from seqeval.scheme import IOB1\n",
        "def f1_score_eval(y_true, y_pred):\n",
        "    flipped_dict = {0: 'O', 1: 'I-MISC', 2: 'I-ORG', 3: 'B-ORG', 4: 'B-LOC', 5: 'I-PER', 6: 'B-MISC', 7: 'I-LOC'}\n",
        "    \n",
        "    label_list = []\n",
        "    #print(y_pred.shape)\n",
        "    for i in y_pred:\n",
        "        class_num = np.argmax(i)\n",
        "        label_list.append(flipped_dict.get(class_num))\n",
        "    #print(len(label_list))\n",
        "\n",
        "    index = 0\n",
        "    y_pred_label = copy.deepcopy(y_true)\n",
        "    \n",
        "    for i, sentences in enumerate(y_true):\n",
        "        for j, words in enumerate(sentences):\n",
        "            y_pred_label[i][j] = label_list[index]\n",
        "            index+=1\n",
        "\n",
        "    print(f\"f1_score: {f1_score(y_true, y_pred_label, mode='strict', scheme=IOB1)}\")"
      ]
    },
    {
      "cell_type": "code",
      "execution_count": 30,
      "metadata": {
        "id": "icLViyXK3CQ9"
      },
      "outputs": [],
      "source": [
        "from seqeval.metrics import f1_score\n",
        "from tensorflow.keras.callbacks import Callback, EarlyStopping\n",
        "\n",
        "class F1ScoreCallback(Callback):\n",
        "    def __init__(self, val_data, val_labels):\n",
        "        super(F1ScoreCallback, self).__init__()\n",
        "        self.val_data = val_data\n",
        "        self.val_labels = val_labels\n",
        "\n",
        "    def on_epoch_end(self, epoch, logs=None):\n",
        "        pred = self.model.predict(self.val_data)\n",
        "        return f1_score_eval(Y_valid, pred)\n",
        "\n",
        "\n",
        "f1_callback = F1ScoreCallback((w_valid, c_valid_reshaped), y_valid)"
      ]
    },
    {
      "cell_type": "code",
      "execution_count": 31,
      "metadata": {
        "colab": {
          "base_uri": "https://localhost:8080/",
          "height": 495
        },
        "id": "1-KoL-MAGYUq",
        "outputId": "e16d77a4-fcdf-4c31-e39f-40d31300d527"
      },
      "outputs": [
        {
          "name": "stdout",
          "output_type": "stream",
          "text": [
            "Epoch 1/10\n",
            "1401/1401 [==============================] - 5s 4ms/step\n",
            "f1_score: 0.8593598448108632\n",
            "349/349 [==============================] - 30s 84ms/step - loss: 0.1360 - acc: 0.9572 - val_loss: 0.0860 - val_acc: 0.9752\n",
            "Epoch 2/10\n",
            "1401/1401 [==============================] - 5s 4ms/step\n",
            "f1_score: 0.8854022191400831\n",
            "349/349 [==============================] - 32s 93ms/step - loss: 0.0518 - acc: 0.9846 - val_loss: 0.0643 - val_acc: 0.9817\n",
            "Epoch 3/10\n",
            "1401/1401 [==============================] - 6s 4ms/step\n",
            "f1_score: 0.8880201546346973\n",
            "349/349 [==============================] - 31s 89ms/step - loss: 0.0301 - acc: 0.9912 - val_loss: 0.0677 - val_acc: 0.9823\n",
            "Epoch 3: early stopping\n"
          ]
        }
      ],
      "source": [
        "BATCH_SIZE = 512\n",
        "# Train the model and visualize the traning at the end\n",
        "ner_model_hist = ner_model.fit(\n",
        "    [w_train, c_train_reshaped], y_train,\n",
        "    epochs=10,\n",
        "    batch_size=BATCH_SIZE,\n",
        "    callbacks=[early_stopping, f1_callback],\n",
        "    validation_data=([w_valid, c_valid_reshaped], y_valid)\n",
        ")\n"
      ]
    },
    {
      "cell_type": "code",
      "execution_count": 32,
      "metadata": {
        "id": "E40Zx_P-GYUq",
        "outputId": "99b43dd2-fe12-475b-b896-58a6bf072aff"
      },
      "outputs": [
        {
          "name": "stdout",
          "output_type": "stream",
          "text": [
            "1270/1270 [==============================] - 4s 3ms/step\n"
          ]
        },
        {
          "data": {
            "text/plain": [
              "array([[9.9996316e-01, 1.6608242e-06, 3.1386233e-05, ..., 8.8719858e-08,\n",
              "        2.0108097e-07, 3.1864522e-06],\n",
              "       [2.6146732e-03, 2.9091525e-04, 6.6198312e-02, ..., 3.0501327e-04,\n",
              "        8.4625171e-05, 9.3024510e-01],\n",
              "       [9.9972349e-01, 7.2929856e-07, 2.7282623e-04, ..., 1.8221392e-07,\n",
              "        1.7136442e-07, 2.1580395e-06],\n",
              "       ...,\n",
              "       [9.9999917e-01, 6.0371269e-07, 2.7512064e-09, ..., 2.3329910e-07,\n",
              "        1.2681688e-09, 3.9318375e-12],\n",
              "       [9.9999976e-01, 1.3366136e-07, 1.1822991e-08, ..., 1.3831213e-07,\n",
              "        1.1221910e-09, 9.2715766e-11],\n",
              "       [5.3358704e-06, 1.3418988e-06, 5.2180513e-07, ..., 9.9999273e-01,\n",
              "        1.2403423e-08, 1.6259594e-07]], dtype=float32)"
            ]
          },
          "execution_count": 32,
          "metadata": {},
          "output_type": "execute_result"
        }
      ],
      "source": [
        "prediction = ner_model.predict((w_test, c_test_reshaped))\n",
        "prediction"
      ]
    },
    {
      "cell_type": "code",
      "execution_count": 33,
      "metadata": {
        "id": "40SF_I6EGYUq",
        "outputId": "99db09af-f6b8-4d3c-f831-8ef2372724d3"
      },
      "outputs": [
        {
          "name": "stdout",
          "output_type": "stream",
          "text": [
            "f1_score: 0.8189445196211096\n"
          ]
        }
      ],
      "source": [
        "f1_score_eval(Y_test, prediction)"
      ]
    },
    {
      "cell_type": "code",
      "execution_count": 38,
      "metadata": {
        "id": "0zT4rIv5GYUr"
      },
      "outputs": [
        {
          "data": {
            "image/png": "[encoded data removed]",
            "text/plain": [
              "<Figure size 640x480 with 1 Axes>"
            ]
          },
          "metadata": {},
          "output_type": "display_data"
        }
      ],
      "source": [
        "import matplotlib.pyplot as plt\n",
        "\n",
        "# Assuming 'accuracy' and 'val_accuracy' are the keys for training and validation accuracy\n",
        "accuracy = ner_model_hist.history['acc']\n",
        "val_accuracy = ner_model_hist.history['val_acc']\n",
        "epochs = range(1, len(accuracy) + 1)\n",
        "#f1_score = ner_model_hist.history[\"f1_score\"]\n",
        "\n",
        "# Plot training and validation accuracy\n",
        "plt.plot(epochs, accuracy, 'b', label='Training accuracy')\n",
        "plt.plot(epochs, val_accuracy, 'b', label='Validation accuracy')\n",
        "plt.title('Training and Validation accuracy')\n",
        "plt.xlabel('Epochs')\n",
        "plt.ylabel('Accuracy')\n",
        "plt.legend()\n",
        "\n",
        "plt.show()"
      ]
    }
  ],
  "metadata": {
    "colab": {
      "provenance": []
    },
    "kernelspec": {
      "display_name": "Python 3",
      "language": "python",
      "name": "python3"
    },
    "language_info": {
      "codemirror_mode": {
        "name": "ipython",
        "version": 3
      },
      "file_extension": ".py",
      "mimetype": "text/x-python",
      "name": "python",
      "nbconvert_exporter": "python",
      "pygments_lexer": "ipython3",
      "version": "3.10.13"
    }
  },
  "nbformat": 4,
  "nbformat_minor": 0
}
